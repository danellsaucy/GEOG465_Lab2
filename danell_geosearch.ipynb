{
  "cells": [
    {
      "cell_type": "code",
      "execution_count": 19,
      "metadata": {
        "id": "EtnaSlH-wplB"
      },
      "outputs": [],
      "source": [
        "# created on Dec 24, 2020\n",
        "# modified on April 22, 2022\n",
        "# @author:          Danell Forbes\n",
        "# @email:           danellf@uw.edu\n",
        "# @website:         https://hgis.uw.edu\n",
        "# @organization:    Department of Geography, University of Washington, Seattle\n",
        "# @description:     Search geo-tagged tweets within the U.S. This script is modified from https://github.com/shawn-terryah/Twitter_Geolocation"
      ]
    },
    {
      "cell_type": "code",
      "execution_count": 20,
      "metadata": {
        "colab": {
          "base_uri": "https://localhost:8080/"
        },
        "id": "f-bMdKMawxnQ",
        "outputId": "7b6dfb68-a9b4-475b-e35f-635eb7169196"
      },
      "outputs": [
        {
          "output_type": "stream",
          "name": "stdout",
          "text": [
            "Drive already mounted at /gdrive; to attempt to forcibly remount, call drive.mount(\"/gdrive\", force_remount=True).\n"
          ]
        }
      ],
      "source": [
        "import tweepy, json, time\n",
        "import pandas as pd\n",
        "from google.colab import files\n",
        "# Create data on to Google Drive\n",
        "from google.colab import drive\n",
        "# Mount your Drive to the Colab VM.\n",
        "drive.mount('/gdrive')"
      ]
    },
    {
      "cell_type": "code",
      "execution_count": 21,
      "metadata": {
        "id": "dEyPts-ZwplE"
      },
      "outputs": [],
      "source": [
        "class StreamListener(tweepy.StreamListener):\n",
        "    \"\"\"tweepy.StreamListener is a class provided by tweepy used to access\n",
        "    the Twitter Streaming API to collect tweets in real-time.\n",
        "    \"\"\"\n",
        "\n",
        "    def __init__(self, time_limit=60, file=\"\"):\n",
        "        \"\"\"class initialization\"\"\"\n",
        "        self.start_time = time.time()\n",
        "        self.limit = time_limit\n",
        "        self.result = []\n",
        "        self.f = file\n",
        "        super(StreamListener, self).__init__()\n",
        "\n",
        "    def on_data(self, data):\n",
        "        \"\"\"This is called when data are streamed in.\"\"\"\n",
        "        if (time.time() - self.start_time) < self.limit:\n",
        "            datajson = json.loads(data)\n",
        "            # print(datajson, \"\\n\")\n",
        "            if 'id' not in datajson.keys():\n",
        "                time.sleep(10)\n",
        "            else:\n",
        "                id = datajson['id']\n",
        "                username = datajson['user']['screen_name']\n",
        "                created_at = datajson['created_at']\n",
        "                text = datajson['text'].strip().replace(\"\\n\", \"\")\n",
        "\n",
        "                # process the geo-tags\n",
        "                if datajson['coordinates'] == None:\n",
        "                    try:\n",
        "                        bbox = datajson['place']['bounding_box']['coordinates'][0]\n",
        "                        lng = (bbox[0][0] + bbox[2][0]) / 2.0\n",
        "                        lat = (bbox[0][1] + bbox[1][1]) / 2.0\n",
        "                    except:\n",
        "                        lat = 0\n",
        "                        lng = 0\n",
        "                else:\n",
        "                    lng = datajson['coordinates']['coordinates'][0]\n",
        "                    lat = datajson['coordinates']['coordinates'][1]\n",
        "\n",
        "                if lat != 0:\n",
        "                    row = {\n",
        "                        'id': id,\n",
        "                        'username': username,\n",
        "                        'created_at': created_at,\n",
        "                        'lng': lng,\n",
        "                        'lat': lat,\n",
        "                        'text': text\n",
        "                    }\n",
        "                    print(row)\n",
        "                    self.result.append(row)\n",
        "                else:\n",
        "                    pass\n",
        "        else:\n",
        "            df = pd.DataFrame(self.result)\n",
        "            df.to_csv(self.f, index=False)\n",
        "            # download the csv to your local computer\n",
        "            files.download(self.f)\n",
        "            print(\"the csv has been downloaded to your local computer. The program has been completed successfully.\")\n",
        "            return False"
      ]
    },
    {
      "cell_type": "code",
      "execution_count": 25,
      "metadata": {
        "colab": {
          "base_uri": "https://localhost:8080/",
          "height": 1000
        },
        "id": "5Xzyo_OiwplG",
        "outputId": "6c476250-ffb7-4a7c-c537-0d52acaf6777"
      },
      "outputs": [
        {
          "output_type": "stream",
          "name": "stdout",
          "text": [
            "{'id': 1517608283816611840, 'username': 'S_F_Warriors', 'created_at': 'Fri Apr 22 20:56:25 +0000 2022', 'lng': -122.3306025, 'lat': 47.614817, 'text': 'Jasmy on @Coinbase: https://t.co/054FdwUvAT https://t.co/ULZZMppxPo'}\n",
            "{'id': 1517608331765944320, 'username': 'KellyWilsonVO', 'created_at': 'Fri Apr 22 20:56:36 +0000 2022', 'lng': -120.882482, 'lat': 47.273022, 'text': '@Its_Tina_timeVO Longest was 6 months. Shortest was a day.'}\n",
            "{'id': 1517608343925256192, 'username': 'BasedSinceBirth', 'created_at': 'Fri Apr 22 20:56:39 +0000 2022', 'lng': -122.78083050000001, 'lat': 47.051444000000004, 'text': 'Hotels &gt; Airbnbs I need room service and breakfast'}\n",
            "{'id': 1517608403496955904, 'username': 'Richard88227732', 'created_at': 'Fri Apr 22 20:56:53 +0000 2022', 'lng': -122.357576, 'lat': 47.094826499999996, 'text': '@TheChulaDiaries I love those earrings as well very attractive along with everything else 😮🥰😍😅'}\n",
            "{'id': 1517608407053729792, 'username': 'UllerRM', 'created_at': 'Fri Apr 22 20:56:54 +0000 2022', 'lng': -122.3306025, 'lat': 47.614817, 'text': '@_Badchop_ nice. i am still using a pre-WQ reeds, no veist for me :('}\n",
            "{'id': 1517608412376608768, 'username': 'beardywerk', 'created_at': 'Fri Apr 22 20:56:55 +0000 2022', 'lng': -122.3306025, 'lat': 47.614817, 'text': 'Water Moon Farm @j_turnermasland 📸 by yours truly #queerfarmers #queerfarmproject https://t.co/gZM30Ww613'}\n",
            "{'id': 1517608501962452993, 'username': 'RealNealDeal', 'created_at': 'Fri Apr 22 20:57:17 +0000 2022', 'lng': -123.55899400000001, 'lat': 48.366368, 'text': '@adriandix @Interior_Health @mableelmore @MLA_Sandhu With no family doctors in BC how will these people get the lon… https://t.co/s7Fgc3M3Hz'}\n",
            "{'id': 1517608592706183168, 'username': 'larklittlefoot', 'created_at': 'Fri Apr 22 20:57:38 +0000 2022', 'lng': -122.9718835, 'lat': 46.727290499999995, 'text': '@EvaEvansshine2 @AndrewCarrSpen1 Look at how she stands.Look at what she is wearing.Look at her hair.All said ab… https://t.co/uuXQMCvlQa'}\n",
            "{'id': 1517608594883026946, 'username': 'quack_attack22', 'created_at': 'Fri Apr 22 20:57:39 +0000 2022', 'lng': -120.58340150000001, 'lat': 44.1454365, 'text': '@Nova_NYJ @Bruhman90806 @MichaelAAlaniz @akashanav If Lance played like shit last year like Wilson I’d expect him to fly all over as well'}\n",
            "{'id': 1517608618174124033, 'username': 'ArronRenfrew', 'created_at': 'Fri Apr 22 20:57:45 +0000 2022', 'lng': -122.31717406, 'lat': 47.68323319, 'text': \"Real Estate...They ain't making any more of it!! @ Renfrew Real Estate https://t.co/6nRubkSdSG\"}\n",
            "{'id': 1517608621005103106, 'username': 'Poncarose1', 'created_at': 'Fri Apr 22 20:57:45 +0000 2022', 'lng': -120.882482, 'lat': 47.273022, 'text': \"😂😂😂 she's going to change the date on her statement now 🤦🏽\\u200d♀️https://t.co/9IulyDLQHG\"}\n",
            "{'id': 1517608622938738688, 'username': 'SteamSaint', 'created_at': 'Fri Apr 22 20:57:46 +0000 2022', 'lng': -122.096397, 'lat': 47.9921425, 'text': '@davidmcgeoch9 @StarTrek As someone who adores every frame of the oft maligned ENTERPRISE? Seeing Archer there fills my heart with joy!'}\n",
            "{'id': 1517608673752674305, 'username': 'David56361043', 'created_at': 'Fri Apr 22 20:57:58 +0000 2022', 'lng': -122.2317885, 'lat': 47.9599495, 'text': '@DGodfatherMoody what is with these callers attacking you?  Awesome job man!'}\n",
            "{'id': 1517608682619473920, 'username': 'wongisrite', 'created_at': 'Fri Apr 22 20:58:00 +0000 2022', 'lng': -122.3306025, 'lat': 47.614817, 'text': '@djngoma @nygi_xxv tell me'}\n",
            "{'id': 1517608709668569088, 'username': 'BasedSinceBirth', 'created_at': 'Fri Apr 22 20:58:06 +0000 2022', 'lng': -122.78083050000001, 'lat': 47.051444000000004, 'text': 'Just wait til them new cars are able to detect if your drunk and not turn on'}\n",
            "{'id': 1517608727708323847, 'username': 'tmbizee', 'created_at': 'Fri Apr 22 20:58:11 +0000 2022', 'lng': -122.1769, 'lat': 48.06111, 'text': 'Just posted a photo @ Marysville, Washington https://t.co/5U8pTFKxVg'}\n",
            "{'id': 1517608786000707585, 'username': 'SteamSaint', 'created_at': 'Fri Apr 22 20:58:25 +0000 2022', 'lng': -122.096397, 'lat': 47.9921425, 'text': '@AndrewCFrancis @davidmcgeoch9 @StarTrek You’ve earned this. 🥰 https://t.co/g9p4T98ntM'}\n",
            "{'id': 1517608802345897984, 'username': 'CantStandMAGAts', 'created_at': 'Fri Apr 22 20:58:28 +0000 2022', 'lng': -122.1660035, 'lat': 47.180856, 'text': '@MostlyHappy7 @TStaples66 @Reuters Yes! They are all liars. They all lie like rugs.'}\n",
            "{'id': 1517608825066385408, 'username': 'barnavit', 'created_at': 'Fri Apr 22 20:58:34 +0000 2022', 'lng': -122.65036044, 'lat': 48.38701861, 'text': \"Learnin' how to drive:)#drive #driverslicense #infiniti #g35 #g35sedan #g35x #Nissan #spring #fatherandson… https://t.co/d1QxNOBuRk\"}\n",
            "{'id': 1517608831034875908, 'username': 'ImJustHereSoI18', 'created_at': 'Fri Apr 22 20:58:35 +0000 2022', 'lng': -122.9352255, 'lat': 46.971318499999995, 'text': 'This is how I feel about Cassavetes in general.'}\n",
            "{'id': 1517608871501516800, 'username': 'jordanarnold', 'created_at': 'Fri Apr 22 20:58:45 +0000 2022', 'lng': -120.882482, 'lat': 47.273022, 'text': '@rexy Prove it'}\n",
            "{'id': 1517608872835305472, 'username': 'sfam_official', 'created_at': 'Fri Apr 22 20:58:45 +0000 2022', 'lng': -122.3306025, 'lat': 47.614817, 'text': 'in seattle a day early. boutta do all the tourist shit then be way too loud in a bar for the pels game. bad news birds bitch'}\n",
            "{'id': 1517609001873133568, 'username': 'krissymmurphy', 'created_at': 'Fri Apr 22 20:59:16 +0000 2022', 'lng': -120.882482, 'lat': 47.273022, 'text': '@GregInORL They’re the ube yogurt  covered pretzels! So good'}\n",
            "{'id': 1517609017077469184, 'username': 'tmj_sea_labor', 'created_at': 'Fri Apr 22 20:59:20 +0000 2022', 'lng': -122.312367, 'lat': 47.5213789, 'text': \"Want to work at UPS? We're hiring in #Seattle, WA! Click for details: https://t.co/jIkPYKmsrX #Labor\"}\n",
            "{'id': 1517609041844850690, 'username': 'rickfriel', 'created_at': 'Fri Apr 22 20:59:26 +0000 2022', 'lng': -122.3306025, 'lat': 47.614817, 'text': '@epicbeerrider @TimTjames @alicecooper @McCawHall Enjoy!'}\n",
            "{'id': 1517609058286465024, 'username': 'tmj_WAT_pharm', 'created_at': 'Fri Apr 22 20:59:29 +0000 2022', 'lng': -122.9006951, 'lat': 47.0378741, 'text': 'This #Pharmaceutical job might be a great fit for you. Click the link in our bio to see it and more. Dialysis Biome… https://t.co/uULxYBM0Nr'}\n",
            "{'id': 1517609163970387969, 'username': 'PrettyF53270729', 'created_at': 'Fri Apr 22 20:59:55 +0000 2022', 'lng': -122.7654085, 'lat': 47.039416, 'text': 'My feet need attention 😩 cum rub sum lotion on my feet. #footlovers #socksforsale #adultwork #onlyfans #feetfinder… https://t.co/yGD9dvI342'}\n",
            "{'id': 1517609176163229699, 'username': 'mybabelproject', 'created_at': 'Fri Apr 22 20:59:58 +0000 2022', 'lng': -122.166038, 'lat': 47.359928, 'text': 'Love is not the chemical reaction but it is the sensation of a neural networks Quantum Entangled Electromagnetic Ra… https://t.co/UGrMHUCQdq'}\n",
            "{'id': 1517609223143583744, 'username': 'MamaSavage84', 'created_at': 'Fri Apr 22 21:00:09 +0000 2022', 'lng': -122.401313, 'lat': 47.576319999999996, 'text': 'burgers &amp; boba @ the beach w/ babe https://t.co/GAMqlkhb5C'}\n",
            "{'id': 1517609259084644352, 'username': 'olmos_nick', 'created_at': 'Fri Apr 22 21:00:17 +0000 2022', 'lng': -120.58340150000001, 'lat': 44.1454365, 'text': '@BarryOnHere Curry is chasing Magic not Lebron'}\n",
            "{'id': 1517609369927663621, 'username': 'oiselle_sally', 'created_at': 'Fri Apr 22 21:00:44 +0000 2022', 'lng': -120.882482, 'lat': 47.273022, 'text': 'Never thought I’d be so happy to see trees and mountains and snow… in April! PNW, I love you, I’ll never leave you… https://t.co/7b4G0qMTtp'}\n",
            "{'id': 1517609375082311680, 'username': 'CabaretKittens', 'created_at': 'Fri Apr 22 21:00:45 +0000 2022', 'lng': -122.329137, 'lat': 47.550811, 'text': 'We are addicted to #fun @CabaretKittens ! Open daily 10am-2:30am. #Seattle #sodo #seattletraffic #Auburn… https://t.co/L6kGCBaA9h'}\n",
            "{'id': 1517609410587148289, 'username': 'frivnkie', 'created_at': 'Fri Apr 22 21:00:53 +0000 2022', 'lng': -122.3306025, 'lat': 47.614817, 'text': 'me, trying to adult: https://t.co/T3iNIOyyUA'}\n",
            "{'id': 1517609634428719104, 'username': 'CardanoWomen', 'created_at': 'Fri Apr 22 21:01:47 +0000 2022', 'lng': -122.133816, 'lat': 47.570353499999996, 'text': 'Join me in my Space! •#Cardano https://t.co/CnWDJxFXLd'}\n",
            "{'id': 1517609658474672128, 'username': 'KarlyBri', 'created_at': 'Fri Apr 22 21:01:53 +0000 2022', 'lng': -122.34317899999999, 'lat': 47.7558715, 'text': '… I keep losing my childhood.. one by one another RIP… this can not be life.'}\n",
            "{'id': 1517609707191472128, 'username': 'Sh0rt1eK', 'created_at': 'Fri Apr 22 21:02:04 +0000 2022', 'lng': -122.35777250000001, 'lat': 47.818622500000004, 'text': \"We aren't really shocked my MTGs testimony are we? She is 🗑.\"}\n",
            "{'id': 1517609717580767233, 'username': 'seancworld', 'created_at': 'Fri Apr 22 21:02:07 +0000 2022', 'lng': -122.3306025, 'lat': 47.614817, 'text': 'Medford, Oregon here I come!'}\n",
            "{'id': 1517609769040695296, 'username': 'itsjerryfrazier', 'created_at': 'Fri Apr 22 21:02:19 +0000 2022', 'lng': -122.43737949999999, 'lat': 47.305304500000005, 'text': \"Vfrfr#i t I'm voting for Jayson Tatum's game-winner as the #ULTRAMoment of the week! #CelticsMoment\"}\n",
            "{'id': 1517609770290667522, 'username': 'PAWStweets', 'created_at': 'Fri Apr 22 21:02:19 +0000 2022', 'lng': -122.29135656, 'lat': 47.85957161, 'text': 'Just posted a photo @ PAWS - Progressive Animal Welfare Society https://t.co/kJPv0BaHZ8'}\n",
            "{'id': 1517609775210528768, 'username': 'TimPNW98104', 'created_at': 'Fri Apr 22 21:02:20 +0000 2022', 'lng': -122.29648850000001, 'lat': 47.442583, 'text': 'Is there any truth come out of your mouth Senator?'}\n",
            "{'id': 1517609806009278464, 'username': 'Icki_Miki', 'created_at': 'Fri Apr 22 21:02:28 +0000 2022', 'lng': -122.3306025, 'lat': 47.614817, 'text': 'Good morning😘😘 wishing I had some company in my bed🥺 hope everyone has a good weekend❤️ https://t.co/J5Qc7vnjoT'}\n",
            "{'id': 1517609824233558017, 'username': 'devilstumor', 'created_at': 'Fri Apr 22 21:02:32 +0000 2022', 'lng': -122.3306025, 'lat': 47.614817, 'text': '@Sixgilis Oh I was wondering where u went'}\n",
            "{'id': 1517609848396865536, 'username': 'McneilWebster', 'created_at': 'Fri Apr 22 21:02:38 +0000 2022', 'lng': -122.2317885, 'lat': 47.9599495, 'text': 'Chris Flexen on em in 4 hours and 38 minutes  https://t.co/JF1YviSRun'}\n",
            "{'id': 1517609891153649665, 'username': 'jaeyvette', 'created_at': 'Fri Apr 22 21:02:48 +0000 2022', 'lng': -122.7654085, 'lat': 47.039416, 'text': '@missdanaaa_ yeah me &amp; my brother be in this bitch like a WWE match , my sister finally of age to start catching em now 😭😭😭😭😭'}\n",
            "{'id': 1517609931603468288, 'username': 'CO0483T', 'created_at': 'Fri Apr 22 21:02:58 +0000 2022', 'lng': -120.58340150000001, 'lat': 44.1454365, 'text': '@TheyWrestleTest And you made the assumption that everyone in Portland is liberal and ready to discuss political is… https://t.co/snJJ2yEMil'}\n",
            "{'id': 1517610033525104640, 'username': 'CaroHDuclos', 'created_at': 'Fri Apr 22 21:03:22 +0000 2022', 'lng': -122.3775, 'lat': 47.8106, 'text': 'Maya’s first ferry trip ☑️ @ Edmonds, Washington https://t.co/lV3f3Dud1e'}\n",
            "{'id': 1517610060762914816, 'username': 'devilstumor', 'created_at': 'Fri Apr 22 21:03:28 +0000 2022', 'lng': -122.3306025, 'lat': 47.614817, 'text': '@aDeadBoy thought u might like'}\n",
            "{'id': 1517610070468489216, 'username': 'scarletdeth', 'created_at': 'Fri Apr 22 21:03:31 +0000 2022', 'lng': -122.3306025, 'lat': 47.614817, 'text': 'Movies about stealing the declaration of independence are tired. Give me one where the French try to steal back the statue of liberty'}\n",
            "{'id': 1517610089313538049, 'username': 'TimPNW98104', 'created_at': 'Fri Apr 22 21:03:35 +0000 2022', 'lng': -122.2800145, 'lat': 47.469552, 'text': \"@PottsJustin The math ain't there 🤯\"}\n",
            "{'id': 1517610097366630400, 'username': 'Rahmatullah9', 'created_at': 'Fri Apr 22 21:03:37 +0000 2022', 'lng': -122.455344, 'lat': 47.242960499999995, 'text': '@MelissaLyran Hopefully it doesn’t happen *too* soon, because it’s sunny and warm out today and I’m looking forward… https://t.co/AIWJs1eqDP'}\n",
            "{'id': 1517610218053509120, 'username': 'Kik2k', 'created_at': 'Fri Apr 22 21:04:06 +0000 2022', 'lng': -122.149768, 'lat': 47.5978565, 'text': '@janewildexxx @petruccifan Most people (who even do this) stop that after 2 years.'}\n",
            "{'id': 1517610282675175424, 'username': 'EfraimGutierrez', 'created_at': 'Fri Apr 22 21:04:21 +0000 2022', 'lng': -123.370838, 'lat': 48.496225499999994, 'text': 'Uptown Victoria! Beautiful city https://t.co/wXQm5QxWFu'}\n",
            "{'id': 1517610310495965184, 'username': 'sgtscream', 'created_at': 'Fri Apr 22 21:04:28 +0000 2022', 'lng': -122.3306025, 'lat': 47.614817, 'text': '@AstroDomina Directly above don seattle saw it from colmon dock https://t.co/uFgXN0TvRd'}\n",
            "{'id': 1517610379018350592, 'username': 'CantStandMAGAts', 'created_at': 'Fri Apr 22 21:04:44 +0000 2022', 'lng': -122.1660035, 'lat': 47.180856, 'text': 'This is very said news. Indeed, \"in the nearly two years since George Floyd’s murder, the US has made little progre… https://t.co/uoswUPrres'}\n",
            "{'id': 1517610438413803521, 'username': 'Nosky95', 'created_at': 'Fri Apr 22 21:04:59 +0000 2022', 'lng': -119.132102, 'lat': 46.245556, 'text': '@CougfanCOM Fantastic! Go Cougs 🐾🏌🏻\\u200d♂️'}\n",
            "{'id': 1517610456965255168, 'username': 'ProspectInsider', 'created_at': 'Fri Apr 22 21:05:03 +0000 2022', 'lng': -122.2327535, 'lat': 47.565392, 'text': '@TylerVlasak Their word is: trash'}\n",
            "{'id': 1517610523382059008, 'username': 'absurdhumanity', 'created_at': 'Fri Apr 22 21:05:19 +0000 2022', 'lng': -122.3306025, 'lat': 47.614817, 'text': 'Unconscionable that we still have 200 coal burning plants to produce electricity in America.'}\n",
            "{'id': 1517610525013602306, 'username': 'dbm422', 'created_at': 'Fri Apr 22 21:05:19 +0000 2022', 'lng': -122.5934165, 'lat': 47.325449500000005, 'text': '@ErnestoD819 @galleg000s @fromlos No joke man https://t.co/l2MwJc1fwX'}\n",
            "{'id': 1517610549512589312, 'username': 'ahnikalh', 'created_at': 'Fri Apr 22 21:05:25 +0000 2022', 'lng': -122.2800145, 'lat': 47.469552, 'text': '@The_Leo_Lea Gorgeous 💕😍'}\n",
            "{'id': 1517610581385089024, 'username': 'TimPNW98104', 'created_at': 'Fri Apr 22 21:05:33 +0000 2022', 'lng': -122.31344, 'lat': 47.385752499999995, 'text': \"@PattyMurray @POTUS Blah blah blah....blah blah, How about maintaining forests so that we don't have millions of acres burnt every year?\"}\n",
            "{'id': 1517610587714252800, 'username': 'AnnaDelAire', 'created_at': 'Fri Apr 22 21:05:34 +0000 2022', 'lng': -122.3306025, 'lat': 47.614817, 'text': '@Yiro469 Hello'}\n",
            "{'id': 1517610649848672256, 'username': 'talents_west', 'created_at': 'Fri Apr 22 21:05:49 +0000 2022', 'lng': -122.3306025, 'lat': 47.614817, 'text': 'Interested in waitressing? Talents West has immediate openings! Call 206-527-0250 from 11am-6pm M-F. #Seattle… https://t.co/8Xjsv6I5H3'}\n",
            "{'id': 1517610677258489856, 'username': 'bobco85', 'created_at': 'Fri Apr 22 21:05:55 +0000 2022', 'lng': -122.332679, 'lat': 47.609491, 'text': 'Enjoy the clouds dancing overhead for #EarthDay in this timelapse from my office building in downtown Seattle facin… https://t.co/IOBPYJEtF0'}\n",
            "{'id': 1517610685429026817, 'username': 'bobco85', 'created_at': 'Fri Apr 22 21:05:57 +0000 2022', 'lng': -122.332679, 'lat': 47.609491, 'text': '/2 here’s 2 grainy &amp; zoomed in pics of the POTUS motorcade from the timelapse https://t.co/9K4OTTxsnb'}\n",
            "{'id': 1517610706463432704, 'username': 'dwwbuzz', 'created_at': 'Fri Apr 22 21:06:02 +0000 2022', 'lng': -122.2180755, 'lat': 47.3923115, 'text': '@archillect @crrizzyy What is the name if this place and where is it? Peru…? David @dwwbuzz'}\n",
            "{'id': 1517610718199095297, 'username': 'seancworld', 'created_at': 'Fri Apr 22 21:06:05 +0000 2022', 'lng': -122.2800145, 'lat': 47.469552, 'text': 'Time to think big and build'}\n",
            "{'id': 1517610727699230721, 'username': 'lapham923', 'created_at': 'Fri Apr 22 21:06:07 +0000 2022', 'lng': -120.882482, 'lat': 47.273022, 'text': 'Just going from the judges actions,, I think the fix is in. 👀👇'}\n"
          ]
        },
        {
          "output_type": "display_data",
          "data": {
            "text/plain": [
              "<IPython.core.display.Javascript object>"
            ],
            "application/javascript": [
              "\n",
              "    async function download(id, filename, size) {\n",
              "      if (!google.colab.kernel.accessAllowed) {\n",
              "        return;\n",
              "      }\n",
              "      const div = document.createElement('div');\n",
              "      const label = document.createElement('label');\n",
              "      label.textContent = `Downloading \"${filename}\": `;\n",
              "      div.appendChild(label);\n",
              "      const progress = document.createElement('progress');\n",
              "      progress.max = size;\n",
              "      div.appendChild(progress);\n",
              "      document.body.appendChild(div);\n",
              "\n",
              "      const buffers = [];\n",
              "      let downloaded = 0;\n",
              "\n",
              "      const channel = await google.colab.kernel.comms.open(id);\n",
              "      // Send a message to notify the kernel that we're ready.\n",
              "      channel.send({})\n",
              "\n",
              "      for await (const message of channel.messages) {\n",
              "        // Send a message to notify the kernel that we're ready.\n",
              "        channel.send({})\n",
              "        if (message.buffers) {\n",
              "          for (const buffer of message.buffers) {\n",
              "            buffers.push(buffer);\n",
              "            downloaded += buffer.byteLength;\n",
              "            progress.value = downloaded;\n",
              "          }\n",
              "        }\n",
              "      }\n",
              "      const blob = new Blob(buffers, {type: 'application/binary'});\n",
              "      const a = document.createElement('a');\n",
              "      a.href = window.URL.createObjectURL(blob);\n",
              "      a.download = filename;\n",
              "      div.appendChild(a);\n",
              "      a.click();\n",
              "      div.remove();\n",
              "    }\n",
              "  "
            ]
          },
          "metadata": {}
        },
        {
          "output_type": "display_data",
          "data": {
            "text/plain": [
              "<IPython.core.display.Javascript object>"
            ],
            "application/javascript": [
              "download(\"download_b9075047-f32c-44e9-962d-518ad66279fc\", \"geotweets.csv\", 11879)"
            ]
          },
          "metadata": {}
        },
        {
          "output_type": "stream",
          "name": "stdout",
          "text": [
            "the csv has been downloaded to your local computer. The program has been completed successfully.\n"
          ]
        }
      ],
      "source": [
        "if __name__ == \"__main__\":\n",
        "    # These are provided to you through the Twitter API after you create a account\n",
        "    # register a Twitter App to get the keys and access tokens.\n",
        "    output_file = '/gdrive/My Drive/geotweets.csv'\n",
        "\n",
        "    # Apply for your own Twitter API keys at https://developer.twitter.com/en/apply-for-access\n",
        "    consumer_key = \"Y6XTc9QskijgE02CKTr4UaVS2\"\n",
        "    consumer_secret = \"84maEtLYMIFuOTzUAXoKeoCl1xsQDMB1tghAqCuMblJbP905jf\"\n",
        "    access_token = \"1517580669861253120-dHwB2bQUWFA3pbQDvThdZWMjhbF5f1\"\n",
        "    access_token_secret = \"SKKupFnIHGTu5x0DidPNdfwpi0FaAtvs5X5iJwG2TCzB0\"\n",
        "\n",
        "    myauth = tweepy.OAuthHandler(consumer_key, consumer_secret)\n",
        "    myauth.set_access_token(access_token, access_token_secret)\n",
        "\n",
        "    # LOCATIONS are the longitude, latitude coordinate corners for a box that restricts the\n",
        "    # geographic area from which you will stream tweets. The first two define the southwest\n",
        "    # corner of the box and the second two define the northeast corner of the box.\n",
        "    # LOCATIONS = [-124.7771694, 24.520833, -66.947028, 49.384472,  # Contiguous US\n",
        "    #           -164.639405, 58.806859, -144.152365, 71.76871,  # Alaska\n",
        "    #           -160.161542, 18.776344, -154.641396, 22.878623]  # Hawaii\n",
        "    LOCATIONS = [-124.060542, 46.269626, -117.8925907, 48.5216548]\n",
        "\n",
        "    stream_listener = StreamListener(time_limit=600, file=output_file)\n",
        "    stream = tweepy.Stream(auth=myauth, listener=stream_listener)\n",
        "    stream.filter(locations=LOCATIONS, languages=['en'], encoding=\"utf-8\")"
      ]
    }
  ],
  "metadata": {
    "colab": {
      "collapsed_sections": [],
      "name": "danell_geosearch.ipynb",
      "provenance": []
    },
    "kernelspec": {
      "display_name": "Python 3",
      "language": "python",
      "name": "python3"
    },
    "language_info": {
      "codemirror_mode": {
        "name": "ipython",
        "version": 3
      },
      "file_extension": ".py",
      "mimetype": "text/x-python",
      "name": "python",
      "nbconvert_exporter": "python",
      "pygments_lexer": "ipython3",
      "version": "3.7.4"
    }
  },
  "nbformat": 4,
  "nbformat_minor": 0
}